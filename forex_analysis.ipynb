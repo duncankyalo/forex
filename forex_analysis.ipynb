{
 "cells": [
  {
   "cell_type": "markdown",
   "id": "668f1ac3",
   "metadata": {},
   "source": [
    "1.downloading necessary libraries"
   ]
  },
  {
   "cell_type": "code",
   "execution_count": 3,
   "id": "b7890d38",
   "metadata": {},
   "outputs": [
    {
     "name": "stdout",
     "output_type": "stream",
     "text": [
      "Requirement already satisfied: requests in c:\\users\\user\\.conda\\envs\\tf\\lib\\site-packages (2.32.5)\n",
      "Collecting pandas\n",
      "  Using cached pandas-2.3.3-cp310-cp310-win_amd64.whl.metadata (19 kB)\n",
      "Requirement already satisfied: numpy in c:\\users\\user\\.conda\\envs\\tf\\lib\\site-packages (2.2.6)\n",
      "Collecting matplotlib\n",
      "  Using cached matplotlib-3.10.7-cp310-cp310-win_amd64.whl.metadata (11 kB)\n",
      "Collecting scikit-learn\n",
      "  Using cached scikit_learn-1.7.2-cp310-cp310-win_amd64.whl.metadata (11 kB)\n",
      "Collecting xgboost\n",
      "  Using cached xgboost-3.1.1-py3-none-win_amd64.whl.metadata (2.1 kB)\n",
      "Collecting tensorflow\n",
      "  Using cached tensorflow-2.20.0-cp310-cp310-win_amd64.whl.metadata (4.6 kB)\n",
      "Collecting joblib\n",
      "  Using cached joblib-1.5.2-py3-none-any.whl.metadata (5.6 kB)\n",
      "Requirement already satisfied: charset_normalizer<4,>=2 in c:\\users\\user\\.conda\\envs\\tf\\lib\\site-packages (from requests) (3.4.3)\n",
      "Requirement already satisfied: idna<4,>=2.5 in c:\\users\\user\\.conda\\envs\\tf\\lib\\site-packages (from requests) (3.10)\n",
      "Requirement already satisfied: urllib3<3,>=1.21.1 in c:\\users\\user\\.conda\\envs\\tf\\lib\\site-packages (from requests) (2.5.0)\n",
      "Requirement already satisfied: certifi>=2017.4.17 in c:\\users\\user\\.conda\\envs\\tf\\lib\\site-packages (from requests) (2025.10.5)\n",
      "Requirement already satisfied: python-dateutil>=2.8.2 in c:\\users\\user\\.conda\\envs\\tf\\lib\\site-packages (from pandas) (2.9.0.post0)\n",
      "Requirement already satisfied: pytz>=2020.1 in c:\\users\\user\\.conda\\envs\\tf\\lib\\site-packages (from pandas) (2025.2)\n",
      "Requirement already satisfied: tzdata>=2022.7 in c:\\users\\user\\.conda\\envs\\tf\\lib\\site-packages (from pandas) (2025.2)\n",
      "Collecting contourpy>=1.0.1 (from matplotlib)\n",
      "  Using cached contourpy-1.3.2-cp310-cp310-win_amd64.whl.metadata (5.5 kB)\n",
      "Collecting cycler>=0.10 (from matplotlib)\n",
      "  Using cached cycler-0.12.1-py3-none-any.whl.metadata (3.8 kB)\n",
      "Collecting fonttools>=4.22.0 (from matplotlib)\n",
      "  Using cached fonttools-4.60.1-cp310-cp310-win_amd64.whl.metadata (114 kB)\n",
      "Collecting kiwisolver>=1.3.1 (from matplotlib)\n",
      "  Using cached kiwisolver-1.4.9-cp310-cp310-win_amd64.whl.metadata (6.4 kB)\n",
      "Requirement already satisfied: packaging>=20.0 in c:\\users\\user\\.conda\\envs\\tf\\lib\\site-packages (from matplotlib) (25.0)\n",
      "Requirement already satisfied: pillow>=8 in c:\\users\\user\\.conda\\envs\\tf\\lib\\site-packages (from matplotlib) (11.3.0)\n",
      "Collecting pyparsing>=3 (from matplotlib)\n",
      "  Using cached pyparsing-3.2.5-py3-none-any.whl.metadata (5.0 kB)\n",
      "Requirement already satisfied: scipy>=1.8.0 in c:\\users\\user\\.conda\\envs\\tf\\lib\\site-packages (from scikit-learn) (1.15.3)\n",
      "Requirement already satisfied: threadpoolctl>=3.1.0 in c:\\users\\user\\.conda\\envs\\tf\\lib\\site-packages (from scikit-learn) (3.6.0)\n",
      "Requirement already satisfied: absl-py>=1.0.0 in c:\\users\\user\\.conda\\envs\\tf\\lib\\site-packages (from tensorflow) (2.3.1)\n",
      "Requirement already satisfied: astunparse>=1.6.0 in c:\\users\\user\\.conda\\envs\\tf\\lib\\site-packages (from tensorflow) (1.6.3)\n",
      "Requirement already satisfied: flatbuffers>=24.3.25 in c:\\users\\user\\.conda\\envs\\tf\\lib\\site-packages (from tensorflow) (25.9.23)\n",
      "Requirement already satisfied: gast!=0.5.0,!=0.5.1,!=0.5.2,>=0.2.1 in c:\\users\\user\\.conda\\envs\\tf\\lib\\site-packages (from tensorflow) (0.6.0)\n",
      "Requirement already satisfied: google_pasta>=0.1.1 in c:\\users\\user\\.conda\\envs\\tf\\lib\\site-packages (from tensorflow) (0.2.0)\n",
      "Requirement already satisfied: libclang>=13.0.0 in c:\\users\\user\\.conda\\envs\\tf\\lib\\site-packages (from tensorflow) (18.1.1)\n",
      "Requirement already satisfied: opt_einsum>=2.3.2 in c:\\users\\user\\.conda\\envs\\tf\\lib\\site-packages (from tensorflow) (3.4.0)\n",
      "Requirement already satisfied: protobuf>=5.28.0 in c:\\users\\user\\.conda\\envs\\tf\\lib\\site-packages (from tensorflow) (6.32.1)\n",
      "Requirement already satisfied: setuptools in c:\\users\\user\\.conda\\envs\\tf\\lib\\site-packages (from tensorflow) (78.1.1)\n",
      "Requirement already satisfied: six>=1.12.0 in c:\\users\\user\\.conda\\envs\\tf\\lib\\site-packages (from tensorflow) (1.17.0)\n",
      "Requirement already satisfied: termcolor>=1.1.0 in c:\\users\\user\\.conda\\envs\\tf\\lib\\site-packages (from tensorflow) (3.1.0)\n",
      "Requirement already satisfied: typing_extensions>=3.6.6 in c:\\users\\user\\.conda\\envs\\tf\\lib\\site-packages (from tensorflow) (4.15.0)\n",
      "Requirement already satisfied: wrapt>=1.11.0 in c:\\users\\user\\.conda\\envs\\tf\\lib\\site-packages (from tensorflow) (1.17.3)\n",
      "Requirement already satisfied: grpcio<2.0,>=1.24.3 in c:\\users\\user\\.conda\\envs\\tf\\lib\\site-packages (from tensorflow) (1.75.1)\n",
      "Requirement already satisfied: tensorboard~=2.20.0 in c:\\users\\user\\.conda\\envs\\tf\\lib\\site-packages (from tensorflow) (2.20.0)\n",
      "Requirement already satisfied: keras>=3.10.0 in c:\\users\\user\\.conda\\envs\\tf\\lib\\site-packages (from tensorflow) (3.11.3)\n",
      "Requirement already satisfied: h5py>=3.11.0 in c:\\users\\user\\.conda\\envs\\tf\\lib\\site-packages (from tensorflow) (3.14.0)\n",
      "Requirement already satisfied: ml_dtypes<1.0.0,>=0.5.1 in c:\\users\\user\\.conda\\envs\\tf\\lib\\site-packages (from tensorflow) (0.5.3)\n",
      "Requirement already satisfied: markdown>=2.6.8 in c:\\users\\user\\.conda\\envs\\tf\\lib\\site-packages (from tensorboard~=2.20.0->tensorflow) (3.9)\n",
      "Requirement already satisfied: tensorboard-data-server<0.8.0,>=0.7.0 in c:\\users\\user\\.conda\\envs\\tf\\lib\\site-packages (from tensorboard~=2.20.0->tensorflow) (0.7.2)\n",
      "Requirement already satisfied: werkzeug>=1.0.1 in c:\\users\\user\\.conda\\envs\\tf\\lib\\site-packages (from tensorboard~=2.20.0->tensorflow) (3.1.3)\n",
      "Requirement already satisfied: wheel<1.0,>=0.23.0 in c:\\users\\user\\.conda\\envs\\tf\\lib\\site-packages (from astunparse>=1.6.0->tensorflow) (0.45.1)\n",
      "Requirement already satisfied: rich in c:\\users\\user\\.conda\\envs\\tf\\lib\\site-packages (from keras>=3.10.0->tensorflow) (14.1.0)\n",
      "Requirement already satisfied: namex in c:\\users\\user\\.conda\\envs\\tf\\lib\\site-packages (from keras>=3.10.0->tensorflow) (0.1.0)\n",
      "Requirement already satisfied: optree in c:\\users\\user\\.conda\\envs\\tf\\lib\\site-packages (from keras>=3.10.0->tensorflow) (0.17.0)\n",
      "Requirement already satisfied: MarkupSafe>=2.1.1 in c:\\users\\user\\.conda\\envs\\tf\\lib\\site-packages (from werkzeug>=1.0.1->tensorboard~=2.20.0->tensorflow) (3.0.3)\n",
      "Requirement already satisfied: markdown-it-py>=2.2.0 in c:\\users\\user\\.conda\\envs\\tf\\lib\\site-packages (from rich->keras>=3.10.0->tensorflow) (4.0.0)\n",
      "Requirement already satisfied: pygments<3.0.0,>=2.13.0 in c:\\users\\user\\.conda\\envs\\tf\\lib\\site-packages (from rich->keras>=3.10.0->tensorflow) (2.19.2)\n",
      "Requirement already satisfied: mdurl~=0.1 in c:\\users\\user\\.conda\\envs\\tf\\lib\\site-packages (from markdown-it-py>=2.2.0->rich->keras>=3.10.0->tensorflow) (0.1.2)\n",
      "Using cached pandas-2.3.3-cp310-cp310-win_amd64.whl (11.3 MB)\n",
      "Using cached matplotlib-3.10.7-cp310-cp310-win_amd64.whl (8.1 MB)\n",
      "Using cached scikit_learn-1.7.2-cp310-cp310-win_amd64.whl (8.9 MB)\n",
      "Using cached xgboost-3.1.1-py3-none-win_amd64.whl (72.0 MB)\n",
      "Using cached tensorflow-2.20.0-cp310-cp310-win_amd64.whl (331.7 MB)\n",
      "Using cached joblib-1.5.2-py3-none-any.whl (308 kB)\n",
      "Using cached contourpy-1.3.2-cp310-cp310-win_amd64.whl (221 kB)\n",
      "Using cached cycler-0.12.1-py3-none-any.whl (8.3 kB)\n",
      "Using cached fonttools-4.60.1-cp310-cp310-win_amd64.whl (2.3 MB)\n",
      "Using cached kiwisolver-1.4.9-cp310-cp310-win_amd64.whl (73 kB)\n",
      "Using cached pyparsing-3.2.5-py3-none-any.whl (113 kB)\n",
      "Installing collected packages: pyparsing, kiwisolver, joblib, fonttools, cycler, contourpy, xgboost, scikit-learn, pandas, matplotlib, tensorflow\n",
      "\n",
      "   ----------------------------------------  0/11 [pyparsing]\n",
      "   ----------------------------------------  0/11 [pyparsing]\n",
      "   ------- --------------------------------  2/11 [joblib]\n",
      "   ------- --------------------------------  2/11 [joblib]\n",
      "   ------- --------------------------------  2/11 [joblib]\n",
      "   ------- --------------------------------  2/11 [joblib]\n",
      "   ------- --------------------------------  2/11 [joblib]\n",
      "   ------- --------------------------------  2/11 [joblib]\n",
      "   ------- --------------------------------  2/11 [joblib]\n",
      "   ------- --------------------------------  2/11 [joblib]\n",
      "   ------- --------------------------------  2/11 [joblib]\n",
      "   ---------- -----------------------------  3/11 [fonttools]\n",
      "   ---------- -----------------------------  3/11 [fonttools]\n",
      "   ---------- -----------------------------  3/11 [fonttools]\n",
      "   ---------- -----------------------------  3/11 [fonttools]\n",
      "   ---------- -----------------------------  3/11 [fonttools]\n",
      "   ---------- -----------------------------  3/11 [fonttools]\n",
      "   ---------- -----------------------------  3/11 [fonttools]\n",
      "   ---------- -----------------------------  3/11 [fonttools]\n",
      "   ---------- -----------------------------  3/11 [fonttools]\n",
      "   ---------- -----------------------------  3/11 [fonttools]\n",
      "   ---------- -----------------------------  3/11 [fonttools]\n",
      "   ---------- -----------------------------  3/11 [fonttools]\n",
      "   ---------- -----------------------------  3/11 [fonttools]\n",
      "   ---------- -----------------------------  3/11 [fonttools]\n",
      "   ---------- -----------------------------  3/11 [fonttools]\n",
      "   ---------- -----------------------------  3/11 [fonttools]\n",
      "   ---------- -----------------------------  3/11 [fonttools]\n",
      "   ---------- -----------------------------  3/11 [fonttools]\n",
      "   ---------- -----------------------------  3/11 [fonttools]\n",
      "   ---------- -----------------------------  3/11 [fonttools]\n",
      "   ---------- -----------------------------  3/11 [fonttools]\n",
      "   ---------- -----------------------------  3/11 [fonttools]\n",
      "   ---------- -----------------------------  3/11 [fonttools]\n",
      "   ---------- -----------------------------  3/11 [fonttools]\n",
      "   ---------- -----------------------------  3/11 [fonttools]\n",
      "   ---------- -----------------------------  3/11 [fonttools]\n",
      "   ---------- -----------------------------  3/11 [fonttools]\n",
      "   ---------- -----------------------------  3/11 [fonttools]\n",
      "   ---------- -----------------------------  3/11 [fonttools]\n",
      "   ---------- -----------------------------  3/11 [fonttools]\n",
      "   ---------- -----------------------------  3/11 [fonttools]\n",
      "   ---------- -----------------------------  3/11 [fonttools]\n",
      "   ---------- -----------------------------  3/11 [fonttools]\n",
      "   ---------- -----------------------------  3/11 [fonttools]\n",
      "   ---------- -----------------------------  3/11 [fonttools]\n",
      "   ---------- -----------------------------  3/11 [fonttools]\n",
      "   -------------- -------------------------  4/11 [cycler]\n",
      "   ------------------ ---------------------  5/11 [contourpy]\n",
      "   ------------------ ---------------------  5/11 [contourpy]\n",
      "   --------------------- ------------------  6/11 [xgboost]\n",
      "   --------------------- ------------------  6/11 [xgboost]\n",
      "   --------------------- ------------------  6/11 [xgboost]\n",
      "   --------------------- ------------------  6/11 [xgboost]\n",
      "   --------------------- ------------------  6/11 [xgboost]\n",
      "   --------------------- ------------------  6/11 [xgboost]\n",
      "   --------------------- ------------------  6/11 [xgboost]\n",
      "   --------------------- ------------------  6/11 [xgboost]\n",
      "   --------------------- ------------------  6/11 [xgboost]\n",
      "   --------------------- ------------------  6/11 [xgboost]\n",
      "   --------------------- ------------------  6/11 [xgboost]\n",
      "   --------------------- ------------------  6/11 [xgboost]\n",
      "   --------------------- ------------------  6/11 [xgboost]\n",
      "   --------------------- ------------------  6/11 [xgboost]\n",
      "   ------------------------- --------------  7/11 [scikit-learn]\n",
      "   ------------------------- --------------  7/11 [scikit-learn]\n",
      "   ------------------------- --------------  7/11 [scikit-learn]\n",
      "   ------------------------- --------------  7/11 [scikit-learn]\n",
      "   ------------------------- --------------  7/11 [scikit-learn]\n",
      "   ------------------------- --------------  7/11 [scikit-learn]\n",
      "   ------------------------- --------------  7/11 [scikit-learn]\n",
      "   ------------------------- --------------  7/11 [scikit-learn]\n",
      "   ------------------------- --------------  7/11 [scikit-learn]\n",
      "   ------------------------- --------------  7/11 [scikit-learn]\n",
      "   ------------------------- --------------  7/11 [scikit-learn]\n",
      "   ------------------------- --------------  7/11 [scikit-learn]\n",
      "   ------------------------- --------------  7/11 [scikit-learn]\n",
      "   ------------------------- --------------  7/11 [scikit-learn]\n",
      "   ------------------------- --------------  7/11 [scikit-learn]\n",
      "   ------------------------- --------------  7/11 [scikit-learn]\n",
      "   ------------------------- --------------  7/11 [scikit-learn]\n",
      "   ------------------------- --------------  7/11 [scikit-learn]\n",
      "   ------------------------- --------------  7/11 [scikit-learn]\n",
      "   ------------------------- --------------  7/11 [scikit-learn]\n",
      "   ------------------------- --------------  7/11 [scikit-learn]\n",
      "   ------------------------- --------------  7/11 [scikit-learn]\n",
      "   ------------------------- --------------  7/11 [scikit-learn]\n",
      "   ------------------------- --------------  7/11 [scikit-learn]\n",
      "   ------------------------- --------------  7/11 [scikit-learn]\n",
      "   ------------------------- --------------  7/11 [scikit-learn]\n",
      "   ------------------------- --------------  7/11 [scikit-learn]\n",
      "   ------------------------- --------------  7/11 [scikit-learn]\n",
      "   ------------------------- --------------  7/11 [scikit-learn]\n",
      "   ------------------------- --------------  7/11 [scikit-learn]\n",
      "   ------------------------- --------------  7/11 [scikit-learn]\n",
      "   ------------------------- --------------  7/11 [scikit-learn]\n",
      "   ------------------------- --------------  7/11 [scikit-learn]\n",
      "   ------------------------- --------------  7/11 [scikit-learn]\n",
      "   ------------------------- --------------  7/11 [scikit-learn]\n",
      "   ------------------------- --------------  7/11 [scikit-learn]\n",
      "   ------------------------- --------------  7/11 [scikit-learn]\n",
      "   ------------------------- --------------  7/11 [scikit-learn]\n",
      "   ------------------------- --------------  7/11 [scikit-learn]\n",
      "   ------------------------- --------------  7/11 [scikit-learn]\n",
      "   ------------------------- --------------  7/11 [scikit-learn]\n",
      "   ------------------------- --------------  7/11 [scikit-learn]\n",
      "   ------------------------- --------------  7/11 [scikit-learn]\n",
      "   ------------------------- --------------  7/11 [scikit-learn]\n",
      "   ------------------------- --------------  7/11 [scikit-learn]\n",
      "   ------------------------- --------------  7/11 [scikit-learn]\n",
      "   ------------------------- --------------  7/11 [scikit-learn]\n",
      "   ------------------------- --------------  7/11 [scikit-learn]\n",
      "   ------------------------- --------------  7/11 [scikit-learn]\n",
      "   ------------------------- --------------  7/11 [scikit-learn]\n",
      "   ------------------------- --------------  7/11 [scikit-learn]\n",
      "   ------------------------- --------------  7/11 [scikit-learn]\n",
      "   ------------------------- --------------  7/11 [scikit-learn]\n",
      "   ------------------------- --------------  7/11 [scikit-learn]\n",
      "   ------------------------- --------------  7/11 [scikit-learn]\n",
      "   ------------------------- --------------  7/11 [scikit-learn]\n",
      "   ------------------------- --------------  7/11 [scikit-learn]\n",
      "   ------------------------- --------------  7/11 [scikit-learn]\n",
      "   ------------------------- --------------  7/11 [scikit-learn]\n",
      "   ------------------------- --------------  7/11 [scikit-learn]\n",
      "   ------------------------- --------------  7/11 [scikit-learn]\n",
      "   ------------------------- --------------  7/11 [scikit-learn]\n",
      "   ------------------------- --------------  7/11 [scikit-learn]\n",
      "   ------------------------- --------------  7/11 [scikit-learn]\n",
      "   ------------------------- --------------  7/11 [scikit-learn]\n",
      "   ------------------------- --------------  7/11 [scikit-learn]\n",
      "   ------------------------- --------------  7/11 [scikit-learn]\n",
      "   ------------------------- --------------  7/11 [scikit-learn]\n",
      "   ------------------------- --------------  7/11 [scikit-learn]\n",
      "   ------------------------- --------------  7/11 [scikit-learn]\n",
      "   ------------------------- --------------  7/11 [scikit-learn]\n",
      "   ------------------------- --------------  7/11 [scikit-learn]\n",
      "   ------------------------- --------------  7/11 [scikit-learn]\n",
      "   ------------------------- --------------  7/11 [scikit-learn]\n",
      "   ------------------------- --------------  7/11 [scikit-learn]\n",
      "   ------------------------- --------------  7/11 [scikit-learn]\n",
      "   ------------------------- --------------  7/11 [scikit-learn]\n",
      "   ------------------------- --------------  7/11 [scikit-learn]\n",
      "   ------------------------- --------------  7/11 [scikit-learn]\n",
      "   ------------------------- --------------  7/11 [scikit-learn]\n",
      "   ------------------------- --------------  7/11 [scikit-learn]\n",
      "   ------------------------- --------------  7/11 [scikit-learn]\n",
      "   ------------------------- --------------  7/11 [scikit-learn]\n",
      "   ------------------------- --------------  7/11 [scikit-learn]\n",
      "   ------------------------- --------------  7/11 [scikit-learn]\n",
      "   ------------------------- --------------  7/11 [scikit-learn]\n",
      "   ----------------------------- ----------  8/11 [pandas]\n",
      "   ----------------------------- ----------  8/11 [pandas]\n",
      "   ----------------------------- ----------  8/11 [pandas]\n",
      "   ----------------------------- ----------  8/11 [pandas]\n",
      "   ----------------------------- ----------  8/11 [pandas]\n",
      "   ----------------------------- ----------  8/11 [pandas]\n",
      "   ----------------------------- ----------  8/11 [pandas]\n",
      "   ----------------------------- ----------  8/11 [pandas]\n",
      "   ----------------------------- ----------  8/11 [pandas]\n",
      "   ----------------------------- ----------  8/11 [pandas]\n",
      "\n"
     ]
    },
    {
     "name": "stderr",
     "output_type": "stream",
     "text": [
      "ERROR: Could not install packages due to an OSError: [WinError 32] The process cannot access the file because it is being used by another process: 'C:\\\\Users\\\\User\\\\.conda\\\\envs\\\\tf\\\\Lib\\\\site-packages\\\\pandas\\\\tests\\\\frame\\\\test_stack_unstack.py'\n",
      "Consider using the `--user` option or check the permissions.\n",
      "\n"
     ]
    }
   ],
   "source": [
    "! pip install requests pandas numpy matplotlib scikit-learn xgboost tensorflow joblib \n"
   ]
  },
  {
   "cell_type": "markdown",
   "id": "289a6db6",
   "metadata": {},
   "source": [
    "2.import librarries"
   ]
  },
  {
   "cell_type": "code",
   "execution_count": 21,
   "id": "39abd34f",
   "metadata": {},
   "outputs": [
    {
     "name": "stdout",
     "output_type": "stream",
     "text": [
      "Requirement already satisfied: scikit-learn in c:\\users\\user\\.conda\\envs\\tf\\lib\\site-packages (1.7.2)\n",
      "Requirement already satisfied: numpy>=1.22.0 in c:\\users\\user\\.conda\\envs\\tf\\lib\\site-packages (from scikit-learn) (2.2.6)\n",
      "Requirement already satisfied: scipy>=1.8.0 in c:\\users\\user\\.conda\\envs\\tf\\lib\\site-packages (from scikit-learn) (1.15.3)\n",
      "Requirement already satisfied: joblib>=1.2.0 in c:\\users\\user\\.conda\\envs\\tf\\lib\\site-packages (from scikit-learn) (1.5.2)\n",
      "Requirement already satisfied: threadpoolctl>=3.1.0 in c:\\users\\user\\.conda\\envs\\tf\\lib\\site-packages (from scikit-learn) (3.6.0)\n"
     ]
    }
   ],
   "source": [
    "! pip install --upgrade scikit-learn\n"
   ]
  },
  {
   "cell_type": "code",
   "execution_count": 19,
   "id": "1a6b2a4d",
   "metadata": {},
   "outputs": [],
   "source": [
    "import requests\n",
    "import pandas as pd\n",
    "import numpy as np\n",
    "import matplotlib.pyplot as plt\n",
    "from sklearn.metrics import mean_squared_error\n",
    "from sklearn.preprocessing import MinMaxScaler\n",
    "from xgboost import XGBRegressor\n",
    "from tensorflow.keras.models import Sequential\n",
    "from tensorflow.keras.layers import LSTM, Dense\n",
    "import joblib\n",
    "from datetime import datetime, timedelta\n"
   ]
  },
  {
   "cell_type": "markdown",
   "id": "8c21d8b2",
   "metadata": {},
   "source": [
    "3.Fetch Historical Forex Data via API"
   ]
  },
  {
   "cell_type": "code",
   "execution_count": 13,
   "id": "a8d622fe",
   "metadata": {},
   "outputs": [
    {
     "name": "stdout",
     "output_type": "stream",
     "text": [
      "             Close\n",
      "Date              \n",
      "2025-09-02  1.1638\n",
      "2025-09-03  1.1661\n",
      "2025-09-04  1.1649\n",
      "2025-09-05  1.1717\n",
      "2025-09-08  1.1762\n",
      "\n",
      "Data points: 43\n"
     ]
    }
   ],
   "source": [
    "def get_forex_data(base='EUR', target='USD', api_key='RULHTPRZMKMFZ507'):\n",
    "    url = f'https://www.alphavantage.co/query?function=FX_DAILY&from_symbol={base}&to_symbol={target}&apikey={api_key}&outputsize=compact'\n",
    "    response = requests.get(url)\n",
    "\n",
    "    if response.status_code != 200:\n",
    "        raise Exception(f\"HTTP Error: {response.status_code}\")\n",
    "\n",
    "    data = response.json()\n",
    "    if \"Time Series FX (Daily)\" not in data:\n",
    "        print(\"Error response:\", data)\n",
    "        raise Exception(\"Invalid API response or API limit reached.\")\n",
    "\n",
    "    fx_data = data[\"Time Series FX (Daily)\"]\n",
    "\n",
    "    df = pd.DataFrame([\n",
    "        {\"Date\": date, \"Close\": float(fx_data[date][\"4. close\"])}\n",
    "        for date in fx_data\n",
    "    ])\n",
    "\n",
    "    df[\"Date\"] = pd.to_datetime(df[\"Date\"])\n",
    "    df.sort_values(\"Date\", inplace=True)\n",
    "    df.set_index(\"Date\", inplace=True)\n",
    "\n",
    "    # Filter data for last 2 months\n",
    "    cutoff_date = datetime.now() - timedelta(days=60)\n",
    "    df = df[df.index >= cutoff_date]\n",
    "\n",
    "    return df\n",
    "\n",
    "# Run and view the result\n",
    "df = get_forex_data('EUR', 'USD')\n",
    "print(df.head())\n",
    "print(f\"\\nData points: {len(df)}\")"
   ]
  },
  {
   "cell_type": "markdown",
   "id": "a0e1c965",
   "metadata": {},
   "source": [
    "4.Feature Engineering"
   ]
  },
  {
   "cell_type": "code",
   "execution_count": 14,
   "id": "216a5e97",
   "metadata": {},
   "outputs": [],
   "source": [
    "df['Return'] = df['Close'].pct_change()\n",
    "df['MA_5'] = df['Close'].rolling(5).mean()\n",
    "df['MA_10'] = df['Close'].rolling(10).mean()\n",
    "df = df.dropna()\n",
    "\n",
    "X = df[['MA_5', 'MA_10', 'Return']]\n",
    "y = df['Close']\n",
    "\n",
    "split = int(0.8 * len(df))\n",
    "X_train, X_test = X[:split], X[split:]\n",
    "y_train, y_test = y[:split], y[split:]"
   ]
  },
  {
   "cell_type": "markdown",
   "id": "175eb29d",
   "metadata": {},
   "source": [
    "5.XGBoost Model"
   ]
  },
  {
   "cell_type": "code",
   "execution_count": 23,
   "id": "7241bc2e",
   "metadata": {},
   "outputs": [
    {
     "name": "stdout",
     "output_type": "stream",
     "text": [
      "XGBoost RMSE: 0.004533770951232891\n"
     ]
    }
   ],
   "source": [
    "model_xgb = XGBRegressor(n_estimators=100, learning_rate=0.1, random_state=42)\n",
    "model_xgb.fit(X_train, y_train)\n",
    "\n",
    "preds_xgb = model_xgb.predict(X_test)\n",
    "rmse_xgb = np.sqrt(mean_squared_error(y_test, preds_xgb))\n",
    "print(\"XGBoost RMSE:\", rmse_xgb)"
   ]
  },
  {
   "cell_type": "markdown",
   "id": "8f12f103",
   "metadata": {},
   "source": [
    "6.Plot XGBoost Results"
   ]
  },
  {
   "cell_type": "code",
   "execution_count": 24,
   "id": "8ee52ffe",
   "metadata": {},
   "outputs": [
    {
     "data": {
      "image/png": "[encoded data removed]",
      "text/plain": [
       "<Figure size 1000x500 with 1 Axes>"
      ]
     },
     "metadata": {},
     "output_type": "display_data"
    }
   ],
   "source": [
    "plt.figure(figsize=(10,5))\n",
    "plt.plot(y_test.values, label='Actual')\n",
    "plt.plot(preds_xgb, label='Predicted (XGBoost)')\n",
    "plt.title('EUR/USD Price Prediction - API Data')\n",
    "plt.legend()\n",
    "plt.show()"
   ]
  },
  {
   "cell_type": "markdown",
   "id": "1d668336",
   "metadata": {},
   "source": [
    "7.LSTM Model"
   ]
  },
  {
   "cell_type": "code",
   "execution_count": 27,
   "id": "be27714e",
   "metadata": {},
   "outputs": [],
   "source": [
    "n_steps = 10\n",
    "X_lstm, y_lstm = [], []\n",
    "\n",
    "for i in range(n_steps, len(scaled_close)):\n",
    "    X_lstm.append(scaled_close[i - n_steps:i, 0])\n",
    "    y_lstm.append(scaled_close[i, 0])\n",
    "\n",
    "X_lstm, y_lstm = np.array(X_lstm), np.array(y_lstm)\n",
    "\n",
    "# Check if data exists before reshaping\n",
    "if X_lstm.size == 0:\n",
    "    raise ValueError(\"LSTM input is empty. Reduce n_steps or ensure enough data points.\")\n",
    "\n",
    "X_lstm = X_lstm.reshape(X_lstm.shape[0], X_lstm.shape[1], 1)\n",
    "\n",
    "split_lstm = int(0.8 * len(X_lstm))\n",
    "X_train_lstm, X_test_lstm = X_lstm[:split_lstm], X_lstm[split_lstm:]\n",
    "y_train_lstm, y_test_lstm = y_lstm[:split_lstm], y_lstm[split_lstm:]\n"
   ]
  },
  {
   "cell_type": "markdown",
   "id": "cbc7ddc5",
   "metadata": {},
   "source": [
    "8.Train LSTM"
   ]
  },
  {
   "cell_type": "code",
   "execution_count": 28,
   "id": "1d0856db",
   "metadata": {},
   "outputs": [
    {
     "name": "stderr",
     "output_type": "stream",
     "text": [
      "c:\\Users\\User\\.conda\\envs\\tf\\lib\\site-packages\\keras\\src\\layers\\rnn\\rnn.py:199: UserWarning: Do not pass an `input_shape`/`input_dim` argument to a layer. When using Sequential models, prefer using an `Input(shape)` object as the first layer in the model instead.\n",
      "  super().__init__(**kwargs)\n"
     ]
    },
    {
     "name": "stdout",
     "output_type": "stream",
     "text": [
      "Epoch 1/5\n",
      "\u001b[1m1/1\u001b[0m \u001b[32m━━━━━━━━━━━━━━━━━━━━\u001b[0m\u001b[37m\u001b[0m \u001b[1m7s\u001b[0m 7s/step - loss: 0.1449\n",
      "Epoch 2/5\n",
      "\u001b[1m1/1\u001b[0m \u001b[32m━━━━━━━━━━━━━━━━━━━━\u001b[0m\u001b[37m\u001b[0m \u001b[1m0s\u001b[0m 270ms/step - loss: 0.1131\n",
      "Epoch 3/5\n",
      "\u001b[1m1/1\u001b[0m \u001b[32m━━━━━━━━━━━━━━━━━━━━\u001b[0m\u001b[37m\u001b[0m \u001b[1m0s\u001b[0m 163ms/step - loss: 0.0861\n",
      "Epoch 4/5\n",
      "\u001b[1m1/1\u001b[0m \u001b[32m━━━━━━━━━━━━━━━━━━━━\u001b[0m\u001b[37m\u001b[0m \u001b[1m1s\u001b[0m 506ms/step - loss: 0.0638\n",
      "Epoch 5/5\n",
      "\u001b[1m1/1\u001b[0m \u001b[32m━━━━━━━━━━━━━━━━━━━━\u001b[0m\u001b[37m\u001b[0m \u001b[1m0s\u001b[0m 128ms/step - loss: 0.0459\n"
     ]
    },
    {
     "data": {
      "text/plain": [
       "<keras.src.callbacks.history.History at 0x2609505c220>"
      ]
     },
     "execution_count": 28,
     "metadata": {},
     "output_type": "execute_result"
    }
   ],
   "source": [
    "model_lstm = Sequential([\n",
    "    LSTM(50, return_sequences=True, input_shape=(X_train_lstm.shape[1], 1)),\n",
    "    LSTM(50),\n",
    "    Dense(1)\n",
    "])\n",
    "\n",
    "model_lstm.compile(optimizer='adam', loss='mse')\n",
    "model_lstm.fit(X_train_lstm, y_train_lstm, epochs=5, batch_size=32, verbose=1)"
   ]
  },
  {
   "cell_type": "markdown",
   "id": "600d1b9d",
   "metadata": {},
   "source": [
    "9.Evaluate LSTM"
   ]
  },
  {
   "cell_type": "code",
   "execution_count": 30,
   "id": "c831b7a1",
   "metadata": {},
   "outputs": [
    {
     "name": "stdout",
     "output_type": "stream",
     "text": [
      "\u001b[1m1/1\u001b[0m \u001b[32m━━━━━━━━━━━━━━━━━━━━\u001b[0m\u001b[37m\u001b[0m \u001b[1m0s\u001b[0m 284ms/step\n",
      "LSTM RMSE: 0.003287672699484168\n"
     ]
    }
   ],
   "source": [
    "preds_lstm = model_lstm.predict(X_test_lstm)\n",
    "preds_lstm_rescaled = scaler.inverse_transform(preds_lstm)\n",
    "y_test_lstm_rescaled = scaler.inverse_transform(y_test_lstm.reshape(-1, 1))\n",
    "\n",
    "rmse_lstm = np.sqrt(mean_squared_error(y_test_lstm_rescaled, preds_lstm_rescaled))\n",
    "print(\"LSTM RMSE:\", rmse_lstm)"
   ]
  },
  {
   "cell_type": "markdown",
   "id": "5fcf1d78",
   "metadata": {},
   "source": [
    "10.Compare Models"
   ]
  },
  {
   "cell_type": "code",
   "execution_count": 31,
   "id": "81e8e4de",
   "metadata": {},
   "outputs": [
    {
     "name": "stdout",
     "output_type": "stream",
     "text": [
      "XGBoost RMSE: 0.004533770951232891\n",
      "LSTM RMSE: 0.003287672699484168\n",
      "LSTM performed better.\n"
     ]
    }
   ],
   "source": [
    "print(\"XGBoost RMSE:\", rmse_xgb)\n",
    "print(\"LSTM RMSE:\", rmse_lstm)\n",
    "\n",
    "if rmse_xgb < rmse_lstm:\n",
    "    print(\"XGBoost performed better.\")\n",
    "else:\n",
    "    print(\"LSTM performed better.\")"
   ]
  },
  {
   "cell_type": "markdown",
   "id": "f371a889",
   "metadata": {},
   "source": [
    "11.Save the Better Model"
   ]
  },
  {
   "cell_type": "code",
   "execution_count": 32,
   "id": "804346e4",
   "metadata": {},
   "outputs": [
    {
     "name": "stderr",
     "output_type": "stream",
     "text": [
      "WARNING:absl:You are saving your model as an HDF5 file via `model.save()` or `keras.saving.save_model(model)`. This file format is considered legacy. We recommend using instead the native Keras format, e.g. `model.save('my_model.keras')` or `keras.saving.save_model(model, 'my_model.keras')`. \n"
     ]
    },
    {
     "name": "stdout",
     "output_type": "stream",
     "text": [
      "Saved LSTM model.\n"
     ]
    }
   ],
   "source": [
    "if rmse_xgb < rmse_lstm:\n",
    "    joblib.dump(model_xgb, 'model_eurusd_xgb.pkl')\n",
    "    print(\"Saved XGBoost model.\")\n",
    "else:\n",
    "    model_lstm.save('model_eurusd_lstm.h5')\n",
    "    print(\"Saved LSTM model.\")"
   ]
  },
  {
   "cell_type": "markdown",
   "id": "955eca59",
   "metadata": {},
   "source": [
    "12.actual vs predicted forex prices"
   ]
  },
  {
   "cell_type": "code",
   "execution_count": 33,
   "id": "19e2aae7",
   "metadata": {},
   "outputs": [
    {
     "data": {
      "image/png": "[encoded data removed]",
      "text/plain": [
       "<Figure size 1000x500 with 1 Axes>"
      ]
     },
     "metadata": {},
     "output_type": "display_data"
    }
   ],
   "source": [
    "# Align predictions and actual values\n",
    "x_axis = np.arange(len(y_test_lstm_rescaled))\n",
    "\n",
    "plt.figure(figsize=(10,5))\n",
    "plt.plot(x_axis, y_test_lstm_rescaled, label='Actual', linewidth=2)\n",
    "plt.plot(x_axis, preds_xgb[:len(y_test_lstm_rescaled)], label='XGBoost', linestyle='--')\n",
    "plt.plot(x_axis, preds_lstm_rescaled, label='LSTM', linestyle=':')\n",
    "plt.title('EUR/USD Forecast Comparison')\n",
    "plt.xlabel('Days')\n",
    "plt.ylabel('Exchange Rate')\n",
    "plt.legend()\n",
    "plt.grid(True)\n",
    "plt.tight_layout()\n",
    "plt.show()"
   ]
  }
 ],
 "metadata": {
  "kernelspec": {
   "display_name": "tf",
   "language": "python",
   "name": "python3"
  },
  "language_info": {
   "codemirror_mode": {
    "name": "ipython",
    "version": 3
   },
   "file_extension": ".py",
   "mimetype": "text/x-python",
   "name": "python",
   "nbconvert_exporter": "python",
   "pygments_lexer": "ipython3",
   "version": "3.10.18"
  }
 },
 "nbformat": 4,
 "nbformat_minor": 5
}
